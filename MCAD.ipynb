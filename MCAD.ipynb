{
 "cells": [
  {
   "cell_type": "code",
   "execution_count": 2,
   "metadata": {},
   "outputs": [],
   "source": [
    "#Of the same comp,account,control- oldest item >300 days and while newest item <210 days will stay on agedROs\n",
    "#Excel format cells, custom, add yyyy-mm-dd format style"
   ]
  },
  {
   "cell_type": "code",
   "execution_count": 3,
   "metadata": {},
   "outputs": [],
   "source": [
    "import os,datetime,pprint,logging,copy\n",
    "import pandas as pd\n",
    "import numpy as np"
   ]
  },
  {
   "cell_type": "code",
   "execution_count": null,
   "metadata": {},
   "outputs": [],
   "source": [
    "os.chdir(r'C:\\Users\\lxie\\Desktop\\Python Warranty') #work\n",
    "from storeSchedulesDict import allStores\n",
    "schedules = allStores"
   ]
  },
  {
   "cell_type": "code",
   "execution_count": 37,
   "metadata": {},
   "outputs": [],
   "source": [
    "#Format Columns\n",
    "thecolumns = ['Comp','Account','Jrnl','Reference','Date','Amount','Control1','Post-Date','Post-Time','User']\n",
    "strcolumns = ['Comp','Account','Jrnl','Reference','Control1','User']\n",
    "summary_columns = ['Comp','Account','Control1','Days','Amount','Current','31-60 days','61-90 days','91+']\n",
    "detail_columns = ['Comp','Account','Control1','Jrnl','Days','Reference','Date','Amount','Current','31-60 days','61-90 days','91+']\n",
    "Comp_Acct_Ctrl = ['Comp','Account','Control1']\n",
    "total_columns = ['Reference','Amount','Current','31-60 days','61-90 days','91+']"
   ]
  },
  {
   "cell_type": "code",
   "execution_count": 39,
   "metadata": {},
   "outputs": [],
   "source": [
    "#UPLOAD DATA\n",
    "mcadcsv = pd.read_csv(r'C:\\ADP\\SCHMCAD.csv',usecols=thecolumns,dtype=str)###work\n",
    "combinedROs = pd.DataFrame(columns=thecolumns)\n",
    "agedROs = pd.read_csv(r'C:\\Users\\lxie\\Desktop\\Python Warranty\\agedROs.csv',usecols=thecolumns,dtype=str)###work\n",
    "archiveROs = pd.read_csv(r'C:\\Users\\lxie\\Desktop\\Python Warranty\\archivedROs.csv',usecols=Comp_Acct_Ctrl,dtype=str)###work\n",
    "to_agedROs = pd.DataFrame(columns=thecolumns)\n",
    "sch_details = pd.DataFrame(columns=thecolumns)\n",
    "mcad_prep = pd.DataFrame(columns=thecolumns)"
   ]
  },
  {
   "cell_type": "code",
   "execution_count": 40,
   "metadata": {},
   "outputs": [],
   "source": [
    "#Format Data\n",
    "\n",
    "#Date to datetime\n",
    "combinedROs['Date'] = pd.to_datetime(combinedROs['Date'])\n",
    "mcadcsv['Date'] = pd.to_datetime(mcadcsv['Date'])\n",
    "mcad_prep['Date'] = pd.to_datetime(mcad_prep['Date'])\n",
    "agedROs['Date'] = pd.to_datetime(agedROs['Date'])\n",
    "to_agedROs['Date'] = pd.to_datetime(to_agedROs['Date'])\n",
    "#Post Date to datetime\n",
    "combinedROs['Post-Date'] = pd.to_datetime(combinedROs['Post-Date'])\n",
    "mcadcsv['Post-Date'] = pd.to_datetime(mcadcsv['Post-Date'])\n",
    "mcad_prep['Post-Date'] = pd.to_datetime(mcad_prep['Post-Date'])\n",
    "agedROs['Post-Date'] = pd.to_datetime(agedROs['Post-Date'])\n",
    "to_agedROs['Post-Date'] = pd.to_datetime(to_agedROs['Post-Date'])\n",
    "#Amount to 'non-null float64'\n",
    "combinedROs['Amount'] = combinedROs['Amount'].astype(float)\n",
    "mcadcsv['Amount'] = mcadcsv['Amount'].astype(float)\n",
    "mcad_prep['Amount'] = mcad_prep['Amount'].astype(float)\n",
    "agedROs['Amount'] = agedROs['Amount'].astype(float)\n",
    "to_agedROs['Amount'] = to_agedROs['Amount'].astype(float)\n",
    "combinedROs['Post-Time'] = pd.to_timedelta(combinedROs['Post-Time'],unit='S')\n",
    "mcadcsv['Post-Time'] = pd.to_timedelta(mcadcsv['Post-Time'],unit='S')\n",
    "mcad_prep['Post-Time'] = pd.to_timedelta(mcad_prep['Post-Time'],unit='S')\n",
    "agedROs['Post-Time'] = pd.to_timedelta(agedROs['Post-Time'],unit='S')\n",
    "to_agedROs['Post-Time'] = pd.to_timedelta(to_agedROs['Post-Time'],unit='S')\n",
    "#all other columns\n",
    "combinedROs[strcolumns] = combinedROs[strcolumns].astype(str)\n",
    "mcadcsv[strcolumns] = mcadcsv[strcolumns].astype(str)\n",
    "mcad_prep[strcolumns] = mcad_prep[strcolumns].astype(str)\n",
    "agedROs[strcolumns] = agedROs[strcolumns].astype(str)\n",
    "to_agedROs[strcolumns] = to_agedROs[strcolumns].astype(str)"
   ]
  },
  {
   "cell_type": "code",
   "execution_count": null,
   "metadata": {},
   "outputs": [],
   "source": [
    "#Today\n",
    "practicedate = datetime.datetime.now() + datetime.timedelta(days=1)\n",
    "date2y = practicedate - datetime.timedelta(days=730)\n",
    "date10m1d = practicedate - datetime.timedelta(days=301)\n",
    "date10m = practicedate - datetime.timedelta(days=300)\n",
    "date9m = practicedate - datetime.timedelta(days=270)\n",
    "date9m = practicedate - datetime.timedelta(days=270)\n",
    "date7m = practicedate - datetime.timedelta(days=210)\n",
    "date6m = practicedate - datetime.timedelta(days=180)\n",
    "date120 = practicedate - datetime.timedelta(days=120)\n",
    "date90 = practicedate - datetime.timedelta(days=90)\n",
    "date60 = practicedate - datetime.timedelta(days=60)\n",
    "date30 = practicedate - datetime.timedelta(days=30)"
   ]
  },
  {
   "cell_type": "code",
   "execution_count": 43,
   "metadata": {},
   "outputs": [],
   "source": [
    "#formated in relation to store and account\n",
    "store_accounts = []\n",
    "for a,b in schedules.items():\n",
    "    for c in b:\n",
    "        store_accounts.append((a,c))\n",
    "        \n",
    "#store_accounts\n",
    "def dict_filter(Compss,Accountss):\n",
    "    if (Compss,Accountss) in store_accounts:\n",
    "        return True\n",
    "        \n",
    "mcadcsv['Dict'] = mcadcsv.apply(lambda x: dict_filter(x['Comp'],x['Account']),axis=1)\n",
    "mcadcsv = mcadcsv[mcadcsv['Dict']==True].reset_index(drop=True)\n",
    "mcadcsv = mcadcsv.drop(columns='Dict')\n"
   ]
  },
  {
   "cell_type": "code",
   "execution_count": 45,
   "metadata": {},
   "outputs": [],
   "source": [
    "#Summary Tab\n",
    "mcad_summary = mcadcsv.groupby(Comp_Acct_Ctrl).agg({'Amount':['sum',],'Date':'min'}).round(2)\n",
    "mcad_summary.columns = mcad_summary.columns.get_level_values(0)\n",
    "mcad_summary['Days'] = (practicedate - mcad_summary['Date']).dt.days\n",
    "mcad_summary = mcad_summary.reset_index(drop=False)#secures df by adding groupby columns back in df\n",
    "mcad_summary = mcad_summary[(mcad_summary['Amount']!=0)&(mcad_summary['Days']<300)]\n",
    "mcad_summary = mcad_summary.sort_values(by='Control1', ascending=True).reset_index(drop=True)\n",
    "\n",
    "mcad_summary_id = mcad_summary[Comp_Acct_Ctrl].reset_index(drop=True)###comp,account,control1\n",
    "mcad_summary_id = pd.merge(mcad_summary_id,archiveROs,on=Comp_Acct_Ctrl,how=\"outer\",indicator=True)"
   ]
  },
  {
   "cell_type": "code",
   "execution_count": 47,
   "metadata": {},
   "outputs": [],
   "source": [
    "#keep anything that is mcad_summary acct,account,control1\n",
    "\n",
    "for i in mcad_summary_id.index:\n",
    "    add = mcadcsv[(mcadcsv[Comp_Acct_Ctrl]==mcad_summary_id.loc[i,Comp_Acct_Ctrl]).all(axis=1)]\n",
    "    mcad_prep = pd.concat([mcad_prep,add],sort=False,ignore_index=True).reset_index(drop=True)"
   ]
  },
  {
   "cell_type": "code",
   "execution_count": 50,
   "metadata": {},
   "outputs": [],
   "source": [
    "newmcadcsv = mcad_prep.copy()\n",
    "newmcadcsv1 = mcadcsv.copy()\n",
    "\n",
    "intersectmcad = pd.merge(agedROs,newmcadcsv, on=thecolumns, how='inner', indicator=True).drop_duplicates().reset_index(drop=True)\n",
    "#intersectmcad = pd.merge(agedROs,newmcadcsv, on=thecolumns, how='inner', indicator=True).reset_index(drop=True)\n",
    "\n",
    "for j in intersectmcad.index:\n",
    "    newmcadcsvdrop  = newmcadcsv[(newmcadcsv==intersectmcad.loc[j,thecolumns]).all(axis=1)]\n",
    "    newmcadcsv = newmcadcsv.drop(newmcadcsvdrop.index)\n",
    "\n",
    "combinedROs = pd.concat([agedROs,newmcadcsv],sort=False,ignore_index=True).reset_index(drop=True)"
   ]
  },
  {
   "cell_type": "code",
   "execution_count": 55,
   "metadata": {},
   "outputs": [],
   "source": [
    "#Summary Tab\n",
    "summary = combinedROs.groupby(Comp_Acct_Ctrl).agg({'Amount':['sum',],'Date':'min'}).round(2)\n",
    "summary.columns = summary.columns.get_level_values(0)\n",
    "summary['Days'] = (practicedate - summary['Date']).dt.days\n",
    "summary = summary.reset_index(drop=False)#secures df by adding groupby columns back in df\n",
    "summary = summary.sort_values(by='Control1', ascending=True).reset_index(drop=True)"
   ]
  },
  {
   "cell_type": "code",
   "execution_count": 56,
   "metadata": {},
   "outputs": [],
   "source": [
    "def age_col_91(dayss,sumss):\n",
    "    if dayss > 90:\n",
    "        return sumss\n",
    "    else:\n",
    "        return 0\n",
    "def age_col_90(dayss,sumss):\n",
    "    if 60 < dayss <= 90:\n",
    "        return sumss\n",
    "    else:\n",
    "        return 0\n",
    "def age_col_60(dayss,sumss):\n",
    "    if 30 < dayss <= 60:\n",
    "        return sumss\n",
    "    else:\n",
    "        return 0\n",
    "def age_col_30(dayss,sumss):\n",
    "    if dayss <= 30:\n",
    "        return sumss\n",
    "    else:\n",
    "        return 0\n",
    "\n",
    "summary['Current'] = summary.apply(lambda x: age_col_30(x['Days'],x['Amount']),axis=1)\n",
    "summary['31-60 days'] = summary.apply(lambda x: age_col_60(x['Days'],x['Amount']),axis=1)\n",
    "summary['61-90 days'] = summary.apply(lambda x: age_col_90(x['Days'],x['Amount']),axis=1)\n",
    "summary['91+'] = summary.apply(lambda x: age_col_91(x['Days'],x['Amount']),axis=1)"
   ]
  },
  {
   "cell_type": "code",
   "execution_count": 57,
   "metadata": {},
   "outputs": [],
   "source": [
    "#Select ROs (the oldest entry/Date:'min') days greater than aged 61 to add to agedROs\n",
    "summary_aged = summary[summary['Days']>=61]\n",
    "summary_aged = summary_aged[Comp_Acct_Ctrl].reset_index(drop=True)"
   ]
  },
  {
   "cell_type": "code",
   "execution_count": 58,
   "metadata": {},
   "outputs": [],
   "source": [
    "#adding all comp, account, control where Days>91 as agedROs\n",
    "#grab df from combinedROs that appears on summary_aged\n",
    "for i in summary_aged.index:\n",
    "    ageROs_add = combinedROs[(combinedROs[Comp_Acct_Ctrl]==summary_aged.loc[i,Comp_Acct_Ctrl]).all(axis=1)]\n",
    "    to_agedROs = pd.concat([to_agedROs,ageROs_add],sort=False,ignore_index=True).reset_index(drop=True)\n",
    "\n",
    "#find duplicated lines\n",
    "intersectAgedROs = pd.merge(agedROs,to_agedROs,on=thecolumns,how=\"inner\",indicator=True).drop_duplicates().reset_index(drop=True)\n",
    "\n",
    "for j in intersectAgedROs.index:\n",
    "    to_agedROsdrop  = to_agedROs[(to_agedROs == intersectAgedROs.loc[j,thecolumns]).all(axis=1)]\n",
    "    to_agedROs = to_agedROs.drop(to_agedROsdrop.index)\n",
    "    \n",
    "agedROs = pd.concat([agedROs,to_agedROs],sort=False,ignore_index=True).reset_index(drop=True)"
   ]
  },
  {
   "cell_type": "code",
   "execution_count": 59,
   "metadata": {},
   "outputs": [],
   "source": [
    "#find intercepts between agedROs and newmcadcsv1, remove intercepts from newmcadcsv1\n",
    "#intersectAgedROs_mcad = pd.merge(agedROs,newmcadcsv1,on=thecolumns,how=\"inner\",indicator=True).drop_duplicates().reset_index(drop=True)\n",
    "intersectAgedROs_mcad = pd.merge(agedROs,newmcadcsv1,on=thecolumns,how=\"inner\",indicator=True).reset_index(drop=True)\n",
    "\n",
    "for q in intersectAgedROs_mcad.index:\n",
    "    drop1 = newmcadcsv1[(newmcadcsv1==intersectAgedROs_mcad.loc[q,thecolumns]).all(axis=1)]\n",
    "    newmcadcsv1 = newmcadcsv1.drop(drop1.index)\n",
    "newmcadcsv1 = newmcadcsv1.reset_index(drop=True)\n"
   ]
  },
  {
   "cell_type": "code",
   "execution_count": null,
   "metadata": {},
   "outputs": [],
   "source": [
    "#add comp,account,control1 to agedROs from newmcadcsv1 \n",
    "intersectAgedROs_mcad_CompAcctCtrl = agedROs.groupby(Comp_Acct_Ctrl).agg({'Amount':['sum',],}).round(2)\n",
    "intersectAgedROs_mcad_CompAcctCtrl.columns = intersectAgedROs_mcad_CompAcctCtrl.columns.get_level_values(0)\n",
    "intersectAgedROs_mcad_CompAcctCtrl.reset_index(level=['Comp','Account','Control1'],inplace=True)\n",
    "for k in intersectAgedROs_mcad_CompAcctCtrl.index:\n",
    "    add1 = newmcadcsv1[(newmcadcsv1[Comp_Acct_Ctrl]==intersectAgedROs_mcad_CompAcctCtrl.loc[k,Comp_Acct_Ctrl]).all(axis=1)]\n",
    "    agedROs = pd.concat([agedROs,add1],sort=False,ignore_index=True).reset_index(drop=True)"
   ]
  },
  {
   "cell_type": "code",
   "execution_count": 62,
   "metadata": {},
   "outputs": [],
   "source": [
    "#from ageROs, selected to drop where sum totals to zero and RO Date (youngest entry/Date:'max') older than 2 years\n",
    "agedROs1 = agedROs.groupby(Comp_Acct_Ctrl).agg({'Amount':['sum',],'Date':'max'}).round(2)\n",
    "agedROs1.columns = agedROs1.columns.get_level_values(0)\n",
    "agedROs1 = agedROs1.reset_index(drop=False)\n",
    "agedROs1_drop = agedROs1[(agedROs1['Amount']==0)&(agedROs1['Date']<date10m1d)].reset_index(drop=True)\n",
    "for r in agedROs1_drop.index:\n",
    "    drop = agedROs[(agedROs[Comp_Acct_Ctrl]==agedROs1_drop.loc[r,Comp_Acct_Ctrl]).all(axis=1)]\n",
    "    agedROs = agedROs.drop(drop.index)      \n",
    "agedROs = agedROs.reset_index(drop=True)"
   ]
  },
  {
   "cell_type": "code",
   "execution_count": 65,
   "metadata": {},
   "outputs": [],
   "source": [
    "###save\n",
    "agedROs = agedROs.dropna().reset_index(drop=True)\n",
    "agedROs_str = agedROs.astype('str')\n",
    "#agedROs.to_csv(r'C:\\Users\\L\\Desktop\\RO Schedules\\agedROs\\agedROs.csv',index=False)###home\n",
    "agedROs_str.to_csv(r'C:\\Users\\lxie\\Desktop\\Python Warranty\\agedROs.csv',index=False)###work"
   ]
  },
  {
   "cell_type": "code",
   "execution_count": null,
   "metadata": {},
   "outputs": [],
   "source": []
  },
  {
   "cell_type": "code",
   "execution_count": 66,
   "metadata": {},
   "outputs": [],
   "source": [
    "#file prep\n",
    "sch_details = pd.DataFrame(columns=thecolumns)\n",
    "sch_summary = summary[summary_columns]\n",
    "sch_summary = sch_summary[sch_summary['Amount']!=0]\n",
    "sch_summary = sch_summary.sort_values(by='Control1',ascending=True).reset_index(drop=True)"
   ]
  },
  {
   "cell_type": "code",
   "execution_count": 67,
   "metadata": {},
   "outputs": [],
   "source": [
    "sch_summary1 = sch_summary.copy() #sch_summary1 with combinedROs3 to help prepare sch_details\n",
    "sch_summary1 = sch_summary1[Comp_Acct_Ctrl]\n",
    "combinedROs3 = combinedROs.copy()"
   ]
  },
  {
   "cell_type": "code",
   "execution_count": 68,
   "metadata": {},
   "outputs": [],
   "source": [
    "#select only comp,account,Controls that are relevant\n",
    "for m in sch_summary1.index:\n",
    "    add2 = combinedROs3[(combinedROs3[Comp_Acct_Ctrl]==sch_summary1.loc[m,Comp_Acct_Ctrl]).all(axis=1)]\n",
    "    sch_details = pd.concat([sch_details,add2],sort=False,ignore_index=True).reset_index(drop=True)"
   ]
  },
  {
   "cell_type": "code",
   "execution_count": 70,
   "metadata": {},
   "outputs": [],
   "source": [
    "#sch_details\n",
    "sch_details1 = pd.concat([sch_details,sch_summary],sort=False,ignore_index=True)\n",
    "sch_details1 = sch_details1[detail_columns]\n",
    "sch_details1 = sch_details1.sort_values(by=['Control1','Date'], ascending=True).reset_index(drop=True)\n",
    "sch_details1 = sch_details1.fillna('')"
   ]
  },
  {
   "cell_type": "code",
   "execution_count": null,
   "metadata": {},
   "outputs": [],
   "source": [
    "os.chdir(r'C:\\Users\\lxie\\Desktop\\Python Warranty\\email schedules')###work\n",
    "for i in store_accounts:\n",
    "    store = i[0]\n",
    "    account = i[1]\n",
    "    \n",
    "    sch_summary2 = sch_summary[(sch_summary['Comp']==store)&(sch_summary['Account']==account)]\n",
    "    sch_summary2.sort_values(by='Control1', ascending=True).reset_index(drop=True)\n",
    "    sch_details2 = sch_details1[(sch_details1['Comp']==store)&(sch_details1['Account']==account)]\n",
    "    sch_details2.sort_values(by='Control1', ascending=True).reset_index(drop=True)\n",
    "    \n",
    "    summmary_days = sch_summary2['Days'].max()#####add Days######\n",
    "    current_total = sch_summary2['Current'].sum().round(2)\n",
    "    sixty_total = sch_summary2['31-60 days'].sum().round(2)\n",
    "    ninety_total = sch_summary2['61-90 days'].sum().round(2)\n",
    "    ninetyone_total = sch_summary2['91+'].sum().round(2)\n",
    "    grand_total = sch_summary2['Amount'].sum().round(2)\n",
    "    \n",
    "    total_list  = ['Grand Total',grand_total,current_total,sixty_total,ninety_total,ninetyone_total]\n",
    "    total_df = pd.DataFrame([total_list], columns=total_columns)\n",
    "    \n",
    "    sch_summary2 = sch_summary2.append(total_df,ignore_index=True,sort=False)\n",
    "    sch_details2 = sch_details2.append(total_df,ignore_index=True,sort=False)\n",
    "    sch_summary2.fillna('')\n",
    "    sch_summary2 = sch_summary2.replace(0,'')\n",
    "    sch_details2.fillna('')\n",
    "    sch_details2 = sch_details2.replace(0,'')\n",
    "    \n",
    "    with pd.ExcelWriter(\"{}-{}.xlsx\".format(store,account)) as writer:\n",
    "        sch_details2.to_excel(writer, sheet_name='Details',index=False)\n",
    "        sch_summary2.to_excel(writer, sheet_name='Summary',index=False)\n",
    "    \n",
    "    print(store,account,summmary_days,total_list)"
   ]
  },
  {
   "cell_type": "code",
   "execution_count": null,
   "metadata": {},
   "outputs": [],
   "source": []
  }
 ],
 "metadata": {
  "kernelspec": {
   "display_name": "Python 3",
   "language": "python",
   "name": "python3"
  },
  "language_info": {
   "codemirror_mode": {
    "name": "ipython",
    "version": 3
   },
   "file_extension": ".py",
   "mimetype": "text/x-python",
   "name": "python",
   "nbconvert_exporter": "python",
   "pygments_lexer": "ipython3",
   "version": "3.7.3"
  },
  "varInspector": {
   "cols": {
    "lenName": 16,
    "lenType": 16,
    "lenVar": 40
   },
   "kernels_config": {
    "python": {
     "delete_cmd_postfix": "",
     "delete_cmd_prefix": "del ",
     "library": "var_list.py",
     "varRefreshCmd": "print(var_dic_list())"
    },
    "r": {
     "delete_cmd_postfix": ") ",
     "delete_cmd_prefix": "rm(",
     "library": "var_list.r",
     "varRefreshCmd": "cat(var_dic_list()) "
    }
   },
   "types_to_exclude": [
    "module",
    "function",
    "builtin_function_or_method",
    "instance",
    "_Feature"
   ],
   "window_display": false
  }
 },
 "nbformat": 4,
 "nbformat_minor": 2
}
